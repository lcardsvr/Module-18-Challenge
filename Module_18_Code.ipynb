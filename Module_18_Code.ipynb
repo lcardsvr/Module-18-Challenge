{
 "cells": [
  {
   "cell_type": "code",
   "execution_count": 9,
   "metadata": {},
   "outputs": [],
   "source": [
    "# Dependencies and Setup\n",
    "import matplotlib.pyplot as plt\n",
    "import pandas as pd\n",
    "import numpy as np\n",
    "import requests\n",
    "import time\n",
    "from scipy.stats import linregress\n",
    "from datetime import datetime\n",
    "from scipy import stats\n",
    "import math\n",
    "# import hvplot.pandas\n",
    "\n",
    "import requests\n",
    "import json\n"
   ]
  },
  {
   "cell_type": "code",
   "execution_count": null,
   "metadata": {},
   "outputs": [],
   "source": [
    "# Read saved data: Skills Priority List from National Skills Commission - Australian Government \n",
    "# citibike_data_db = pd.read_csv(\"202303-citibike-tripdata.csv/202303-citibike-tripdata.csv\")\n",
    "citibike_data_db = pd.read_csv(\"202303-citibike-tripdata.csv\")\n",
    "\n",
    "# Display sample data\n",
    "citibike_data_db.head()"
   ]
  },
  {
   "cell_type": "code",
   "execution_count": null,
   "metadata": {},
   "outputs": [],
   "source": [
    "citibike_data_db.columns"
   ]
  },
  {
   "cell_type": "code",
   "execution_count": null,
   "metadata": {},
   "outputs": [],
   "source": [
    "# Using pandas.to_datetime() to convert pandas column to DateTime\n",
    "citibike_data_db ['started_at'] = pd.to_datetime(citibike_data_db ['started_at'], format=\"%Y/%m/%d %H:%M:%S\")\n",
    "# print(df)"
   ]
  },
  {
   "cell_type": "code",
   "execution_count": null,
   "metadata": {},
   "outputs": [],
   "source": [
    "# Using pandas.to_datetime() to convert pandas column to DateTime\n",
    "citibike_data_db ['ended_at'] = pd.to_datetime(citibike_data_db ['ended_at'], format=\"%Y/%m/%d %H:%M:%S\")\n",
    "# print(df)"
   ]
  },
  {
   "cell_type": "code",
   "execution_count": null,
   "metadata": {},
   "outputs": [],
   "source": [
    "citibike_data_db.head()"
   ]
  },
  {
   "cell_type": "code",
   "execution_count": null,
   "metadata": {},
   "outputs": [],
   "source": [
    "citibike_data_db ['duration'] = citibike_data_db ['ended_at'] - citibike_data_db ['started_at']"
   ]
  },
  {
   "cell_type": "code",
   "execution_count": null,
   "metadata": {},
   "outputs": [],
   "source": [
    "citibike_data_db['dist'] = citibike_data_db.apply(lambda x: distance(([x['start_lat'], x['start_lng']]),([x['end_lat'], x['end_lng']]) ), axis=1)"
   ]
  },
  {
   "cell_type": "code",
   "execution_count": null,
   "metadata": {},
   "outputs": [],
   "source": [
    "citibike_data_db.head()"
   ]
  },
  {
   "cell_type": "code",
   "execution_count": null,
   "metadata": {},
   "outputs": [],
   "source": [
    "citibike_data_db['duration'].describe()"
   ]
  },
  {
   "cell_type": "code",
   "execution_count": null,
   "metadata": {},
   "outputs": [],
   "source": [
    "citibike_data_filter_db = citibike_data_db.loc[(citibike_data_db ['started_at']<citibike_data_db ['ended_at'] ),:]"
   ]
  },
  {
   "cell_type": "code",
   "execution_count": null,
   "metadata": {},
   "outputs": [],
   "source": [
    "citibike_data_filter_db.describe()"
   ]
  },
  {
   "cell_type": "code",
   "execution_count": 5,
   "metadata": {},
   "outputs": [],
   "source": [
    "# dates = [202110, 202111, 202112, 202201, 202202, 202203, 202204, 202205, 202206, 202207, 202208, 202209, 202210, 202211, 202212, 202301, 202302]\n",
    "\n",
    "dates = [202201, 202202, 202203, 202204, 202205, 202206, 202207, 202208, 202209, 202210, 202211, 202212, 202301, 202302]\n",
    "\n",
    "q1dates2022 = [202201, 202202, 202203]\n",
    "\n",
    "q2dates2022 = [202204, 202205, 202206]\n",
    "\n",
    "q3dates2022 = [202207, 202208, 202209]\n",
    "\n",
    "q4dates2022 = [202210, 202211, 202212]\n",
    "\n",
    "q1dates2023 = [202301, 202302, 202303]"
   ]
  },
  {
   "cell_type": "code",
   "execution_count": null,
   "metadata": {},
   "outputs": [],
   "source": [
    "# # Read saved data: Skills Priority List from National Skills Commission - Australian Government \n",
    "# citibike_db = pd.read_csv(\"202-citibike-tripdata.csv/202303-citibike-tripdata.csv\")\n",
    "\n",
    "# Display sample data\n",
    "citibike_data_db.head()"
   ]
  },
  {
   "cell_type": "code",
   "execution_count": null,
   "metadata": {},
   "outputs": [],
   "source": [
    "for i in range (3):\n",
    "    file = str(q1dates2022[i]) + \"-citibike-tripdata.csv\"\n",
    "    citibike_data_year = pd.read_csv(file)\n",
    "\n",
    "    if i == 0 :\n",
    "    \n",
    "        q1dates2022_db = citibike_data_year\n",
    "\n",
    "    else:\n",
    "        q1dates2022_db = pd.concat([q1dates2022_db,citibike_data_year], axis = 0)\n",
    "\n",
    "    print(file)\n",
    "\n",
    "q1dates2022_db ['started_at'] = pd.to_datetime(q1dates2022_db ['started_at'], format=\"%Y/%m/%d %H:%M:%S\")\n",
    "\n",
    "q1dates2022_db ['ended_at'] = pd.to_datetime(q1dates2022_db ['ended_at'], format=\"%Y/%m/%d %H:%M:%S\")\n",
    "\n",
    "q1dates2022_db ['duration'] = q1dates2022_db['ended_at'] - q1dates2022_db['started_at']\n",
    "\n",
    "print (\"Done until time, now calculating distance\")\n",
    "\n",
    "q1dates2022_db['dist'] = q1dates2022_db.apply(lambda x: distance(([x['start_lat'], x['start_lng']]),([x['end_lat'], x['end_lng']]) ), axis=1)\n",
    "\n",
    "\n",
    "\n",
    "# start_lng = q1dates2022_db['start_lng'] * (180 / math.pi)\n",
    "\n",
    "# end_lat = q1dates2022_db['end_lat'] * (180 / math.pi)\n",
    "\n",
    "# end_lng = q1dates2022_db['end_lng'] * (180 / math.pi)\n",
    "\n",
    "\n",
    "# start_lng = q1dates2022_db['start_lng'] * (180 / math.pi)\n",
    "\n",
    "# end_lat = q1dates2022_db['end_lat'] * (180 / math.pi)\n",
    "\n",
    "# end_lng = q1dates2022_db['end_lng'] * (180 / math.pi)\n",
    "\n",
    "# q1dates2022_db ['distance']= math.acos( math.sin(start_lat)*math.sin(end_lat)+ math.cos(start_lat)*math.cos(end_lat)*math.cos(end_lstart_lat = q1dates2022_db['start_lat'] * (180 / math.pi)ng - start_lng))*6371\n",
    "\n",
    "# start_lat', 'start_lng', 'end_lat', 'end_lng',"
   ]
  },
  {
   "cell_type": "code",
   "execution_count": null,
   "metadata": {},
   "outputs": [],
   "source": [
    "q1dates2022_db.to_csv(\"Output_data/q1dates2022_db.csv\")"
   ]
  },
  {
   "cell_type": "code",
   "execution_count": null,
   "metadata": {},
   "outputs": [],
   "source": [
    "for i in range (3):\n",
    "    file = str(q2dates2022[i]) + \"-citibike-tripdata.csv\"\n",
    "    citibike_data_year = pd.read_csv(file)\n",
    "\n",
    "    if i == 0 :\n",
    "    \n",
    "        q2dates2022_db = citibike_data_year\n",
    "\n",
    "    else:\n",
    "        q2dates2022_db = pd.concat([q2dates2022_db,citibike_data_year], axis = 0)\n",
    "\n",
    "    print(file)\n",
    "\n",
    "q2dates2022_db ['started_at'] = pd.to_datetime(q2dates2022_db ['started_at'], format=\"%Y/%m/%d %H:%M:%S\")\n",
    "\n",
    "q2dates2022_db ['ended_at'] = pd.to_datetime(q2dates2022_db ['ended_at'], format=\"%Y/%m/%d %H:%M:%S\")\n",
    "\n",
    "q2dates2022_db ['duration'] = q2dates2022_db['ended_at'] - q2dates2022_db['started_at']\n",
    "\n",
    "print (\"Done until time, now calculating distance\")\n",
    "\n",
    "q2dates2022_db['dist'] = q2dates2022_db.apply(lambda x: distance(([x['start_lat'], x['start_lng']]),([x['end_lat'], x['end_lng']]) ), axis=1)\n"
   ]
  },
  {
   "cell_type": "code",
   "execution_count": null,
   "metadata": {},
   "outputs": [],
   "source": [
    "q2dates2022_db.to_csv(\"Output_data/q2dates2022_db.csv\")"
   ]
  },
  {
   "cell_type": "code",
   "execution_count": 5,
   "metadata": {},
   "outputs": [
    {
     "name": "stderr",
     "output_type": "stream",
     "text": [
      "c:\\Users\\Lcard\\anaconda3\\envs\\PythonData\\lib\\site-packages\\IPython\\core\\interactiveshell.py:3457: DtypeWarning: Columns (5,7) have mixed types.Specify dtype option on import or set low_memory=False.\n",
      "  exec(code_obj, self.user_global_ns, self.user_ns)\n"
     ]
    },
    {
     "name": "stdout",
     "output_type": "stream",
     "text": [
      "202207-citibike-tripdata.csv\n",
      "202208-citibike-tripdata.csv\n",
      "202209-citibike-tripdata.csv\n",
      "Done until time, now calculating distance\n"
     ]
    }
   ],
   "source": [
    "for i in range (3):\n",
    "    file = str(q3dates2022[i]) + \"-citibike-tripdata.csv\"\n",
    "    citibike_data_year = pd.read_csv(file)\n",
    "\n",
    "    if i == 0 :\n",
    "    \n",
    "        q3dates2022_db = citibike_data_year\n",
    "\n",
    "    else:\n",
    "        q3dates2022_db = pd.concat([q3dates2022_db,citibike_data_year], axis = 0)\n",
    "\n",
    "    print(file)\n",
    "\n",
    "q3dates2022_db ['started_at'] = pd.to_datetime(q3dates2022_db ['started_at'], format=\"%Y/%m/%d %H:%M:%S\")\n",
    "\n",
    "q3dates2022_db ['ended_at'] = pd.to_datetime(q3dates2022_db ['ended_at'], format=\"%Y/%m/%d %H:%M:%S\")\n",
    "\n",
    "q3dates2022_db ['duration'] = q3dates2022_db['ended_at'] - q3dates2022_db['started_at']\n",
    "\n",
    "print (\"Done until time, now calculating distance\")\n",
    "\n",
    "q3dates2022_db['dist'] = q3dates2022_db.apply(lambda x: distance(([x['start_lat'], x['start_lng']]),([x['end_lat'], x['end_lng']]) ), axis=1)"
   ]
  },
  {
   "cell_type": "code",
   "execution_count": 6,
   "metadata": {},
   "outputs": [],
   "source": [
    "q3dates2022_db.to_csv(\"Output_data/q3dates2022_db.csv\")"
   ]
  },
  {
   "cell_type": "code",
   "execution_count": 10,
   "metadata": {},
   "outputs": [],
   "source": [
    "qs = [1,2,3,4]"
   ]
  },
  {
   "cell_type": "code",
   "execution_count": 13,
   "metadata": {},
   "outputs": [
    {
     "name": "stderr",
     "output_type": "stream",
     "text": [
      "c:\\Users\\Lcard\\anaconda3\\envs\\PythonData\\lib\\site-packages\\IPython\\core\\interactiveshell.py:3457: DtypeWarning: Columns (6,8) have mixed types.Specify dtype option on import or set low_memory=False.\n",
      "  exec(code_obj, self.user_global_ns, self.user_ns)\n"
     ]
    },
    {
     "name": "stdout",
     "output_type": "stream",
     "text": [
      "Output_data/q1dates2022_db.csv\n",
      "Output_data/q2dates2022_db.csv\n"
     ]
    },
    {
     "ename": "",
     "evalue": "",
     "output_type": "error",
     "traceback": [
      "\u001b[1;31mCanceled future for execute_request message before replies were done"
     ]
    },
    {
     "ename": "",
     "evalue": "",
     "output_type": "error",
     "traceback": [
      "\u001b[1;31mThe Kernel crashed while executing code in the the current cell or a previous cell. Please review the code in the cell(s) to identify a possible cause of the failure. Click <a href='https://aka.ms/vscodeJupyterKernelCrash'>here</a> for more info. View Jupyter <a href='command:jupyter.viewOutput'>log</a> for further details."
     ]
    }
   ],
   "source": [
    "for i in range (3):\n",
    "    filename = \"q\" + str(i+1) + \"dates2022_db.csv\"\n",
    "    file = \"Output_data/\" + filename\n",
    "    citibike_data_year = pd.read_csv(file)\n",
    "\n",
    "    if i == 0 :\n",
    "    \n",
    "        Y2022db = citibike_data_year\n",
    "\n",
    "    else:\n",
    "        Y2022db = pd.concat([Y2022db,citibike_data_year], axis = 0)\n",
    "\n",
    "    print(file)\n",
    "\n",
    "Y2022db['started_at'] = pd.to_datetime(Y2022db ['started_at'], format=\"%Y/%m/%d %H:%M:%S\")\n",
    "\n",
    "Y2022db ['ended_at'] = pd.to_datetime(Y2022db ['ended_at'], format=\"%Y/%m/%d %H:%M:%S\")\n",
    "\n",
    "Y2022db ['duration'] = pd.to_datetime(Y2022db ['duration'], format=\"%Y/%m/%d %H:%M:%S\")\n",
    "\n",
    "print (\"Done with year 2002\")\n",
    "\n",
    "# q4dates2022_db['dist'] = q4dates2022_db.apply(lambda x: distance(([x['start_lat'], x['start_lng']]),([x['end_lat'], x['end_lng']]) ), axis=1)"
   ]
  },
  {
   "cell_type": "code",
   "execution_count": 5,
   "metadata": {},
   "outputs": [],
   "source": [
    "Y2022db.to_csv(\"Output_data/Y2022db.csv\")"
   ]
  },
  {
   "cell_type": "code",
   "execution_count": 7,
   "metadata": {},
   "outputs": [
    {
     "name": "stderr",
     "output_type": "stream",
     "text": [
      "c:\\Users\\Lcard\\anaconda3\\envs\\PythonData\\lib\\site-packages\\IPython\\core\\interactiveshell.py:3457: DtypeWarning: Columns (5,7) have mixed types.Specify dtype option on import or set low_memory=False.\n",
      "  exec(code_obj, self.user_global_ns, self.user_ns)\n"
     ]
    },
    {
     "name": "stdout",
     "output_type": "stream",
     "text": [
      "202301-citibike-tripdata.csv\n",
      "202302-citibike-tripdata.csv\n"
     ]
    },
    {
     "name": "stderr",
     "output_type": "stream",
     "text": [
      "c:\\Users\\Lcard\\anaconda3\\envs\\PythonData\\lib\\site-packages\\IPython\\core\\interactiveshell.py:3457: DtypeWarning: Columns (7) have mixed types.Specify dtype option on import or set low_memory=False.\n",
      "  exec(code_obj, self.user_global_ns, self.user_ns)\n"
     ]
    },
    {
     "name": "stdout",
     "output_type": "stream",
     "text": [
      "202303-citibike-tripdata.csv\n",
      "Done until time, now calculating distance\n"
     ]
    }
   ],
   "source": [
    "for i in range (3):\n",
    "    file = str(q1dates2023[i]) + \"-citibike-tripdata.csv\"\n",
    "    citibike_data_year = pd.read_csv(file)\n",
    "\n",
    "    if i == 0 :\n",
    "    \n",
    "        q1dates2023_db = citibike_data_year\n",
    "\n",
    "    else:\n",
    "        q1dates2023_db = pd.concat([q1dates2023_db,citibike_data_year], axis = 0)\n",
    "\n",
    "    print(file)\n",
    "\n",
    "q1dates2023_db ['started_at'] = pd.to_datetime(q1dates2023_db ['started_at'], format=\"%Y/%m/%d %H:%M:%S\")\n",
    "\n",
    "q1dates2023_db ['ended_at'] = pd.to_datetime(q1dates2023_db ['ended_at'], format=\"%Y/%m/%d %H:%M:%S\")\n",
    "\n",
    "q1dates2023_db ['duration'] = q1dates2023_db['ended_at'] - q1dates2023_db['started_at']\n",
    "\n",
    "print (\"Done until time, now calculating distance\")\n",
    "\n",
    "q1dates2023_db['dist'] = q1dates2023_db.apply(lambda x: distance(([x['start_lat'], x['start_lng']]),([x['end_lat'], x['end_lng']]) ), axis=1)"
   ]
  },
  {
   "cell_type": "code",
   "execution_count": 8,
   "metadata": {},
   "outputs": [],
   "source": [
    "q1dates2023_db.to_csv(\"Output_data/q1dates2023_db.csv\")"
   ]
  },
  {
   "cell_type": "code",
   "execution_count": null,
   "metadata": {},
   "outputs": [],
   "source": [
    "for i in range (3):\n",
    "    file = str(q1dates2023[i]) + \"-citibike-tripdata.csv\"\n",
    "    citibike_data_year = pd.read_csv(file)\n",
    "\n",
    "    if i == 0 :\n",
    "    \n",
    "        q1dates2023_db = citibike_data_year\n",
    "\n",
    "    else:\n",
    "        q1dates2023_db = pd.concat([q1dates2023_db,citibike_data_year], axis = 0)\n",
    "\n",
    "    print(file)\n",
    "\n",
    "q1dates2023_db ['started_at'] = pd.to_datetime(q1dates2023_db ['started_at'], format=\"%Y/%m/%d %H:%M:%S\")\n",
    "\n",
    "q1dates2023_db ['ended_at'] = pd.to_datetime(q1dates2023_db ['ended_at'], format=\"%Y/%m/%d %H:%M:%S\")\n",
    "\n",
    "q1dates2023_db ['duration'] = q1dates2023_db['ended_at'] - q1dates2023_db['started_at']\n",
    "\n",
    "print (\"Done until time, now calculating distance\")\n",
    "\n",
    "q1dates2023_db['dist'] = q1dates2023_db.apply(lambda x: distance(([x['start_lat'], x['start_lng']]),([x['end_lat'], x['end_lng']]) ), axis=1)"
   ]
  },
  {
   "cell_type": "code",
   "execution_count": 6,
   "metadata": {},
   "outputs": [],
   "source": [
    "def distance(origin, destination):\n",
    "    \"\"\"\n",
    "    Calculate the Haversine distance.\n",
    "\n",
    "    Parameters\n",
    "    ----------\n",
    "    origin : tuple of float\n",
    "        (lat, long)\n",
    "    destination : tuple of float\n",
    "        (lat, long)\n",
    "\n",
    "    Returns\n",
    "    -------\n",
    "    distance_in_km : float\n",
    "\n",
    "    Examples\n",
    "    --------\n",
    "    >>> origin = (48.1372, 11.5756)  # Munich\n",
    "    >>> destination = (52.5186, 13.4083)  # Berlin\n",
    "    >>> round(distance(origin, destination), 1)\n",
    "    504.2\n",
    "    \"\"\"\n",
    "    lat1, lon1 = origin\n",
    "    lat2, lon2 = destination\n",
    "    radius = 6371  # km\n",
    "\n",
    "    dlat = math.radians(lat2 - lat1)\n",
    "    dlon = math.radians(lon2 - lon1)\n",
    "    a = (math.sin(dlat / 2) * math.sin(dlat / 2) +\n",
    "         math.cos(math.radians(lat1)) * math.cos(math.radians(lat2)) *\n",
    "         math.sin(dlon / 2) * math.sin(dlon / 2))\n",
    "    c = 2 * math.atan2(math.sqrt(a), math.sqrt(1 - a))\n",
    "    d = radius * c\n",
    "\n",
    "    return d"
   ]
  }
 ],
 "metadata": {
  "kernelspec": {
   "display_name": "PythonData",
   "language": "python",
   "name": "python3"
  },
  "language_info": {
   "codemirror_mode": {
    "name": "ipython",
    "version": 3
   },
   "file_extension": ".py",
   "mimetype": "text/x-python",
   "name": "python",
   "nbconvert_exporter": "python",
   "pygments_lexer": "ipython3",
   "version": "3.7.13"
  },
  "orig_nbformat": 4
 },
 "nbformat": 4,
 "nbformat_minor": 2
}
